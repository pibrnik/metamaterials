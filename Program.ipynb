{
 "cells": [
  {
   "cell_type": "markdown",
   "metadata": {},
   "source": [
    "# 3D natisnjeni metamateriali za aplikacijo v dinamiki\n"
   ]
  },
  {
   "cell_type": "markdown",
   "metadata": {},
   "source": [
    "<img src=\"Skica problema.png\" width=\"200\">"
   ]
  },
  {
   "cell_type": "code",
   "execution_count": 1,
   "metadata": {},
   "outputs": [],
   "source": [
    "import numpy as np\n",
    "import math as m"
   ]
  },
  {
   "cell_type": "code",
   "execution_count": 51,
   "metadata": {},
   "outputs": [],
   "source": [
    "np.set_printoptions(precision=3)"
   ]
  },
  {
   "cell_type": "code",
   "execution_count": 1,
   "metadata": {},
   "outputs": [],
   "source": [
    "class BaseCell:\n",
    "    def __init__(self, E:int,I:float,L:float,n:int,k:float,m:float):\n",
    "        \"\"\"\n",
    "        Creates a BaseCell object\n",
    "\n",
    "        Creates an object of a metamaterial basecell with input parametres. \n",
    "\n",
    "        :param E: Young module (GPa)\n",
    "        :param I: Moment of inertia (mm4)\n",
    "        :param L: Lenght (mm)\n",
    "        :param n: Number of resonators\n",
    "        :param k: Stiffness of resonator (N/m)\n",
    "        :param m: Mass of resonator unit (kg)\n",
    "        \"\"\"\n",
    "        self.E = E \n",
    "        self.I = I\n",
    "        self.L = L\n",
    "        self.n = n\n",
    "        self.k = k\n",
    "        self.m = m\n",
    "\n",
    "    def f0(self):\n",
    "        return (1/(2*np.pi))*(np.sqrt(self.k/self.m))\n",
    "\n",
    "    def Generate_Rred(self, mu):\n",
    "        \"\"\"\n",
    "        Create Right reduction matrix\n",
    "\n",
    "        Creates a right reduction matrix for harmonic wave propagation in direction mu\n",
    "\n",
    "        :param mu: Wave propagation vector\n",
    "        \"\"\"\n",
    "        self.mu = mu\n",
    "        return np.block(\n",
    "            [[np.identity(2),                       np.zeros((2,3))],\n",
    "             [np.identity(2)*np.e**(1j*self.mu),    np.zeros((2,3))],\n",
    "             [np.zeros((3,2)),                      np.identity(3)]])\n",
    "    \n",
    "    def Generate_Lred(self, mu):\n",
    "        \"\"\"\n",
    "        Create Left reduction matrix\n",
    "\n",
    "        Creates a left reduction matrix for harmonic wave propagation in direction mu\n",
    "\n",
    "        :param mu: Wave propagation vector\n",
    "        \"\"\"\n",
    "        self.mu = mu\n",
    "        return np.block(\n",
    "            [[np.identity(2),                              np.zeros((2,3))],\n",
    "             [np.identity(2)*(np.e**(1j*self.mu))**(-1),    np.zeros((2,3))],\n",
    "             [np.zeros((3,2)),                             np.identity(3)]]).T"
   ]
  },
  {
   "cell_type": "code",
   "execution_count": 77,
   "metadata": {},
   "outputs": [],
   "source": [
    "#TESTNI PRIMER\n",
    "test = BaseCell(200,170,200,10,100,0.015)"
   ]
  },
  {
   "cell_type": "code",
   "execution_count": 78,
   "metadata": {},
   "outputs": [
    {
     "data": {
      "text/plain": [
       "12.994946687227937"
      ]
     },
     "execution_count": 78,
     "metadata": {},
     "output_type": "execute_result"
    }
   ],
   "source": [
    "test.f0()"
   ]
  },
  {
   "cell_type": "code",
   "execution_count": 81,
   "metadata": {},
   "outputs": [
    {
     "data": {
      "text/plain": [
       "array([[1.   +0.j   , 0.   +0.j   , 0.   +0.j   , 0.   +0.j   ,\n",
       "        0.   +0.j   ],\n",
       "       [0.   +0.j   , 1.   +0.j   , 0.   +0.j   , 0.   +0.j   ,\n",
       "        0.   +0.j   ],\n",
       "       [0.825+0.565j, 0.   +0.j   , 0.   +0.j   , 0.   +0.j   ,\n",
       "        0.   +0.j   ],\n",
       "       [0.   +0.j   , 0.825+0.565j, 0.   +0.j   , 0.   +0.j   ,\n",
       "        0.   +0.j   ],\n",
       "       [0.   +0.j   , 0.   +0.j   , 1.   +0.j   , 0.   +0.j   ,\n",
       "        0.   +0.j   ],\n",
       "       [0.   +0.j   , 0.   +0.j   , 0.   +0.j   , 1.   +0.j   ,\n",
       "        0.   +0.j   ],\n",
       "       [0.   +0.j   , 0.   +0.j   , 0.   +0.j   , 0.   +0.j   ,\n",
       "        1.   +0.j   ]])"
      ]
     },
     "execution_count": 81,
     "metadata": {},
     "output_type": "execute_result"
    }
   ],
   "source": [
    "test.Rred(0.6)"
   ]
  },
  {
   "cell_type": "code",
   "execution_count": 82,
   "metadata": {},
   "outputs": [
    {
     "data": {
      "text/plain": [
       "array([[1.   +0.j   , 0.   +0.j   , 0.825-0.565j, 0.   +0.j   ,\n",
       "        0.   +0.j   , 0.   +0.j   , 0.   +0.j   ],\n",
       "       [0.   +0.j   , 1.   +0.j   , 0.   +0.j   , 0.825-0.565j,\n",
       "        0.   +0.j   , 0.   +0.j   , 0.   +0.j   ],\n",
       "       [0.   +0.j   , 0.   +0.j   , 0.   +0.j   , 0.   +0.j   ,\n",
       "        1.   +0.j   , 0.   +0.j   , 0.   +0.j   ],\n",
       "       [0.   +0.j   , 0.   +0.j   , 0.   +0.j   , 0.   +0.j   ,\n",
       "        0.   +0.j   , 1.   +0.j   , 0.   +0.j   ],\n",
       "       [0.   +0.j   , 0.   +0.j   , 0.   +0.j   , 0.   +0.j   ,\n",
       "        0.   +0.j   , 0.   +0.j   , 1.   +0.j   ]])"
      ]
     },
     "execution_count": 82,
     "metadata": {},
     "output_type": "execute_result"
    }
   ],
   "source": [
    "test.Lred(0.6)"
   ]
  },
  {
   "cell_type": "code",
   "execution_count": null,
   "metadata": {},
   "outputs": [],
   "source": []
  }
 ],
 "metadata": {
  "kernelspec": {
   "display_name": "Python 3.9.7 ('base')",
   "language": "python",
   "name": "python3"
  },
  "language_info": {
   "codemirror_mode": {
    "name": "ipython",
    "version": 3
   },
   "file_extension": ".py",
   "mimetype": "text/x-python",
   "name": "python",
   "nbconvert_exporter": "python",
   "pygments_lexer": "ipython3",
   "version": "3.9.7"
  },
  "orig_nbformat": 4,
  "vscode": {
   "interpreter": {
    "hash": "37803e6098dc0feaed5db3a47726c754fa563a42f5955b227a2791c9fe7e7acf"
   }
  }
 },
 "nbformat": 4,
 "nbformat_minor": 2
}
